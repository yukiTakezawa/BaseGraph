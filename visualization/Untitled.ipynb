{
 "cells": [
  {
   "cell_type": "code",
   "execution_count": 28,
   "id": "ea49004c",
   "metadata": {},
   "outputs": [],
   "source": [
    "import sys\n",
    "from simple_adic_graph import *\n",
    "from adic_graph import *\n",
    "\n",
    "%matplotlib inline"
   ]
  },
  {
   "cell_type": "code",
   "execution_count": 29,
   "id": "d9ce651b",
   "metadata": {},
   "outputs": [],
   "source": [
    "cherryblossompink = (1.0, 0.72, 0.77)\n",
    "lavenderblue = (0.8, 0.8, 1.0)\n",
    "darkpastelblue = (0.47, 0.62, 0.8)\n",
    "limegreen = (0.2, 0.8, 0.2)\n",
    "yellow = (1.0, 1.0, 0.0)\n",
    "harlequin = (0.25, 1.0, 0.0)"
   ]
  },
  {
   "cell_type": "code",
   "execution_count": 30,
   "id": "5565cb9d",
   "metadata": {},
   "outputs": [
    {
     "name": "stdout",
     "output_type": "stream",
     "text": [
      "0\n",
      "1\n",
      "2\n",
      "3\n",
      "4\n"
     ]
    },
    {
     "data": {
      "image/png": "[encoded data removed]",
      "text/plain": [
       "<Figure size 1368x216 with 9 Axes>"
      ]
     },
     "metadata": {
      "needs_background": "light"
     },
     "output_type": "display_data"
    }
   ],
   "source": [
    "\n",
    "length = 5\n",
    "\n",
    "fig = plt.figure(figsize=(3*length + 1*(length-1), 3))\n",
    "grid = plt.GridSpec(1, 3*length + length-1)\n",
    "\n",
    "counter = 0\n",
    "\n",
    "for i in range(length):\n",
    "    print(i)\n",
    "    ax = fig.add_subplot(grid[0, counter:counter+3])\n",
    "    \n",
    "    if i != length-1:\n",
    "        ax_arrow = fig.add_subplot(grid[0, counter+3:counter+4])\n",
    "        counter += 4\n",
    "#ax3 = fig.add_subplot(grid[0:, 4:7])"
   ]
  },
  {
   "cell_type": "code",
   "execution_count": 136,
   "id": "c962786e",
   "metadata": {},
   "outputs": [],
   "source": [
    "def visualize(graph, pos=None, node_size=350, edge_size=14, edge_label=True, undirected=True, font_size=12):\n",
    "        \n",
    "    if pos == None:\n",
    "        n_nodes = graph.n_nodes\n",
    "        \n",
    "        if n_nodes%2 == 0:\n",
    "            pos = {str(n): 0.5*np.array([np.cos(2 * np.pi * n / n_nodes + np.pi/2 + np.pi/n_nodes), np.sin(2 * np.pi * n / n_nodes + np.pi/2 + np.pi/n_nodes)]) for n in range(n_nodes)}\n",
    "        else:\n",
    "            pos = {str(n): 0.5*np.array([np.cos(2 * np.pi * n / n_nodes + np.pi/2), np.sin(2 * np.pi * n / n_nodes + np.pi/2)]) for n in range(n_nodes)}\n",
    "\n",
    "    #ax = plt.figure(figsize=(3*graph.length,3))\n",
    "    length = graph.length\n",
    "    fig = plt.figure(figsize=(3*length + 1*(length-1), 3))\n",
    "    grid = plt.GridSpec(1, 3*length + length-1)\n",
    "    counter = 0\n",
    "    \n",
    "    options = {\n",
    "        \"font_size\": font_size,\n",
    "        \"node_size\": node_size,\n",
    "        \"node_color\": \"lightgray\",\n",
    "        \"edgecolors\": \"black\",\n",
    "        \"linewidths\": 2,\n",
    "        \"width\": 2.5,\n",
    "    }\n",
    "        \n",
    "    for t in range(graph.length):\n",
    "        #plt.subplot(1, graph.length, t+1)\n",
    "        ax = fig.add_subplot(grid[0, counter:counter+3])\n",
    "        \n",
    "        if undirected:\n",
    "            G = nx.Graph()\n",
    "        else:\n",
    "            G = nx.DiGraph()\n",
    "        edge_labels = {}\n",
    "            \n",
    "        for i in range(graph.n_nodes):\n",
    "            G.add_node(str(i))\n",
    "                \n",
    "            for i in range(graph.n_nodes):\n",
    "                for j in range(graph.n_nodes):\n",
    "                    #if i > j:\n",
    "                    if True:\n",
    "                        if graph.w_list[t][i,j] != 0:\n",
    "                            if graph.w_list[t][i,j] == -1:\n",
    "                                G.add_edge(str(i), str(j), color=cherryblossompink, style=\"solid\")\n",
    "                            \n",
    "                            if graph.w_list[t][i,j] == -2:\n",
    "                                G.add_edge(str(i), str(j), color=darkpastelblue, style=\"solid\")\n",
    "\n",
    "                            if graph.w_list[t][i,j] == -3:\n",
    "                                G.add_edge(str(i), str(j), color=harlequin, style=\"solid\")\n",
    "\n",
    "                            if graph.w_list[t][i,j] == -4:\n",
    "                                G.add_edge(str(i), str(j), color=limegreen, style=\"solid\")\n",
    "\n",
    "                            if graph.w_list[t][i,j] == -5:\n",
    "                                G.add_edge(str(i), str(j), color=lavenderblue, style=\"solid\")\n",
    "                            \n",
    "                            if graph.w_list[t][i,j] == -6:\n",
    "                                G.add_edge(str(i), str(j), color=\"black\", style=\"solid\")\n",
    "                            \n",
    "        ax = plt.gca()\n",
    "        ax.margins(0.20)\n",
    "        plt.axis(\"off\")\n",
    "        \n",
    "        edge_color = [edge[\"color\"] for edge in G.edges.values()]\n",
    "        edge_style = [edge[\"style\"] for edge in G.edges.values()]\n",
    "        \n",
    "        nx.draw(G, pos=pos, labels={str(i) : str(i+1) for i in range(graph.n_nodes)}, style=edge_style, edge_color=edge_color, **options)\n",
    "        \n",
    "        if t != length-1:\n",
    "            ax_arrow = fig.add_subplot(grid[0, counter+3:counter+4])\n",
    "            \n",
    "            #ax_arrow.plot([0, 1, 2], [2,3,4])\n",
    "            ax_arrow.annotate(\"\", xy=(1.0, 0), xytext=(0, 0), arrowprops=dict(facecolor='black',arrowstyle='-|>,head_width=0.75, head_length=0.75',lw=4))\n",
    "            plt.ylim(-1, 1)\n",
    "            plt.axis(\"off\")\n",
    "            counter += 4\n",
    "            \n",
    "            \n",
    "        if edge_label:\n",
    "            nx.draw_networkx_edge_labels(\n",
    "                G, pos,\n",
    "                edge_labels,\n",
    "                font_color='black',\n",
    "                font_size=edge_size)"
   ]
  },
  {
   "cell_type": "code",
   "execution_count": 137,
   "id": "f0dffb1d",
   "metadata": {},
   "outputs": [
    {
     "data": {
      "image/png": "[encoded data removed]",
      "text/plain": [
       "<Figure size 792x216 with 5 Axes>"
      ]
     },
     "metadata": {},
     "output_type": "display_data"
    }
   ],
   "source": [
    "n_nodes = 3\n",
    "max_degree = 1\n",
    "\n",
    "pos = {str(n): 0.5*np.array([np.cos(2 * np.pi * n / n_nodes + np.pi/2), np.sin(2 * np.pi * n / n_nodes + np.pi/2)]) for n in range(n_nodes)}\n",
    "\n",
    "g = VisAdicGraph(n_nodes, max_degree=max_degree)\n",
    "visualize(g, pos)\n"
   ]
  },
  {
   "cell_type": "code",
   "execution_count": 138,
   "id": "03b33a87",
   "metadata": {},
   "outputs": [
    {
     "data": {
      "image/png": "[encoded data removed]",
      "text/plain": [
       "<Figure size 504x216 with 3 Axes>"
      ]
     },
     "metadata": {},
     "output_type": "display_data"
    }
   ],
   "source": [
    "n_nodes = 4\n",
    "max_degree = 1\n",
    "\n",
    "pos = {\"0\": np.array([-0.5, 0.5]), \"1\": np.array([0.5, 0.5]), \"3\": np.array([0.5, -0.5]), \"2\": np.array([-0.5, -0.5])}\n",
    "g = VisAdicGraph(4, max_degree=max_degree)\n",
    "visualize(g, pos)\n",
    "##plt.savefig(f\"../pic/{max_degree}_peer_ADIC_{n_nodes}.pdf\", bbox_inches='tight', dpi=75)"
   ]
  },
  {
   "cell_type": "code",
   "execution_count": null,
   "id": "0289582b",
   "metadata": {},
   "outputs": [],
   "source": []
  },
  {
   "cell_type": "code",
   "execution_count": null,
   "id": "d623d604",
   "metadata": {},
   "outputs": [],
   "source": []
  }
 ],
 "metadata": {
  "kernelspec": {
   "display_name": "Python 3",
   "language": "python",
   "name": "python3"
  },
  "language_info": {
   "codemirror_mode": {
    "name": "ipython",
    "version": 3
   },
   "file_extension": ".py",
   "mimetype": "text/x-python",
   "name": "python",
   "nbconvert_exporter": "python",
   "pygments_lexer": "ipython3",
   "version": "3.8.5"
  }
 },
 "nbformat": 4,
 "nbformat_minor": 5
}
