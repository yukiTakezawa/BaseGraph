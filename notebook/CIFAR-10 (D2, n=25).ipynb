{
 "cells": [
  {
   "cell_type": "code",
   "execution_count": 1,
   "metadata": {},
   "outputs": [],
   "source": [
    "import matplotlib.pyplot as plt\n",
    "import pickle\n",
    "import numpy as np\n",
    "import math\n",
    "import torch"
   ]
  },
  {
   "cell_type": "code",
   "execution_count": 2,
   "metadata": {},
   "outputs": [],
   "source": [
    "def summary_test(file_path, n_nodes):\n",
    "    \n",
    "    history = [pickle.load(open(file_path + \"/node\" + str(j) + \".pk\", \"rb\")) for j in range(n_nodes)]\n",
    "    tmp = np.array(history[0][\"test_loss\"])\n",
    "    tmp2 = np.array(history[0][\"test_acc\"])\n",
    "    for j in range(1, n_nodes):\n",
    "        tmp += np.array(history[j][\"test_loss\"])\n",
    "        tmp2 += np.array(history[j][\"test_acc\"])\n",
    "    \n",
    "    test_loss = tmp/n_nodes\n",
    "    test_acc = tmp2/n_nodes\n",
    "    \n",
    "    return test_loss, test_acc\n",
    "\n",
    "def summary_val(file_path, n_nodes):\n",
    "    \n",
    "    history = [pickle.load(open(file_path + \"/node\" + str(j) + \".pk\", \"rb\")) for j in range(n_nodes)]\n",
    "    tmp = np.array(history[0][\"val_loss\"])\n",
    "    tmp2 = np.array(history[0][\"val_acc\"])\n",
    "    for j in range(1, n_nodes):\n",
    "        tmp += np.array(history[j][\"val_loss\"])\n",
    "        tmp2 += np.array(history[j][\"val_acc\"])\n",
    "    \n",
    "    test_loss = tmp/n_nodes\n",
    "    test_acc = tmp2/n_nodes\n",
    "    \n",
    "    return test_loss, test_acc\n",
    "\n",
    "def summary_train(file_path, n_nodes):\n",
    "    \n",
    "    history = [pickle.load(open(file_path + \"/node\" + str(j) + \".pk\", \"rb\")) for j in range(n_nodes)]\n",
    "    tmp = np.array(history[0][\"train_loss\"])\n",
    "    tmp2 = np.array(history[0][\"train_acc\"])\n",
    "    for j in range(1, n_nodes):\n",
    "        tmp += np.array(history[j][\"train_loss\"])\n",
    "        tmp2 += np.array(history[j][\"train_acc\"])\n",
    "    \n",
    "    test_loss = tmp/n_nodes\n",
    "    test_acc = tmp2/n_nodes\n",
    "    \n",
    "    return test_loss, test_acc"
   ]
  },
  {
   "cell_type": "code",
   "execution_count": 3,
   "metadata": {},
   "outputs": [],
   "source": [
    "def search_best_lr(path, n_nodes, lr_list):\n",
    "    \n",
    "    best_acc = -1\n",
    "    best_lr = -1\n",
    "    \n",
    "    for lr in lr_list:\n",
    "        _, acc = summary_val(f\"{path}/lr_{lr}_beta_0.9\", n_nodes)\n",
    "            \n",
    "        #print(method, lr, acc[-1])\n",
    "        if best_acc < acc[-1]:\n",
    "            best_acc = acc[-1]\n",
    "            best_lr = lr\n",
    "    return best_lr\n",
    "\n",
    "def average_acc(acc_list):\n",
    "    avg = []\n",
    "    std = []\n",
    "    for i in range(len(acc_list[0])):\n",
    "        avg.append(np.average([acc_list[j][i] * 100 for j in range(len(acc_list))]))\n",
    "        std.append(np.std([acc_list[j][i] * 100 for j in range(len(acc_list))]))\n",
    "        \n",
    "    return avg, std"
   ]
  },
  {
   "cell_type": "code",
   "execution_count": 4,
   "metadata": {},
   "outputs": [
    {
     "name": "stdout",
     "output_type": "stream",
     "text": [
      "../results_complete/cifar10_vgg/d2/node_25/1_local_step/2/alpha_0.1/one_peer_adic/lr_0.01_beta_0.9:\r\n",
      "node0.pk   node13.pk  node17.pk  node20.pk  node24.pk  node5.pk  node9.pk\r\n",
      "node10.pk  node14.pk  node18.pk  node21.pk  node2.pk   node6.pk\r\n",
      "node11.pk  node15.pk  node19.pk  node22.pk  node3.pk   node7.pk\r\n",
      "node12.pk  node16.pk  node1.pk\t node23.pk  node4.pk   node8.pk\r\n",
      "\r\n",
      "../results_complete/cifar10_vgg/d2/node_25/1_local_step/2/alpha_0.1/one_peer_adic/lr_0.1_beta_0.9:\r\n"
     ]
    }
   ],
   "source": [
    "!ls ../results_complete/cifar10_vgg/d2/node_25/1_local_step/2/alpha_0.1/one_peer_adic/*"
   ]
  },
  {
   "cell_type": "code",
   "execution_count": null,
   "metadata": {},
   "outputs": [],
   "source": []
  },
  {
   "cell_type": "code",
   "execution_count": 6,
   "metadata": {},
   "outputs": [
    {
     "name": "stdout",
     "output_type": "stream",
     "text": [
      "one_peer_adic 0.1 85.91079999999997 0.0\n",
      "one_peer_exp 0.1 85.5612 0.0\n"
     ]
    },
    {
     "data": {
      "text/plain": [
       "Text(0.5, 1.0, 'n=25, alpha=0.1')"
      ]
     },
     "execution_count": 6,
     "metadata": {},
     "output_type": "execute_result"
    },
    {
     "data": {
      "image/png": "[encoded data removed]",
      "text/plain": [
       "<Figure size 360x432 with 1 Axes>"
      ]
     },
     "metadata": {
      "needs_background": "light"
     },
     "output_type": "display_data"
    }
   ],
   "source": [
    "alpha = 0.1\n",
    "n_nodes = 25\n",
    "local_step = 1\n",
    "\n",
    "dataset = \"cifar10\"\n",
    "model = \"vgg\"\n",
    "optimizer = \"d2\"\n",
    "\n",
    "colors = [\"red\", \"orange\", \"blue\", \"green\", \"black\", \"navy\"]\n",
    "graphs = [\"one_peer_adic\", \"one_peer_exp\"]\n",
    "labels = [\"1-peer ADIC\", \"1-peer Exp.\"]\n",
    "\n",
    "results = []\n",
    "\n",
    "plt.figure(figsize=(5,6))\n",
    "\n",
    "for graph, label, color in zip(graphs, labels, colors):\n",
    "        \n",
    "    acc_list = []\n",
    "\n",
    "    for seed in [1]:\n",
    "        lr = search_best_lr(f\"../results_complete/{dataset}_{model}/{optimizer}/node_{n_nodes}/{local_step}_local_step/{seed}/alpha_{alpha}/{graph}\", n_nodes, [0.1,0.01,0.001])\n",
    "        loss, acc = summary_test(f\"../results_complete/{dataset}_{model}/{optimizer}/node_{n_nodes}/{local_step}_local_step/{seed}/alpha_{alpha}/{graph}/lr_{lr}_beta_0.9\", n_nodes)\n",
    "        acc_list.append(acc)\n",
    "\n",
    "    avg, std = average_acc(acc_list)\n",
    "    print(graph, lr, avg[-1], std[-1])\n",
    "    plt.plot([i*10 for i in range(len(acc))], avg, label=label, color=color, alpha=1.0)\n",
    "    plt.fill_between([i*10 for i in range(len(acc))], np.array(avg) - np.array(std), np.array(avg) + np.array(std), color=color, alpha=0.1)\n",
    "\n",
    "plt.legend(fontsize=16)\n",
    "plt.ylabel(\"Accuracy\", fontsize=18)\n",
    "plt.xlabel(\"Epoch\", fontsize=18)\n",
    "plt.yticks(fontsize=16)\n",
    "plt.xticks(fontsize=16)\n",
    "plt.title(f\"n={n_nodes}, alpha={alpha}\", fontsize=18)\n"
   ]
  },
  {
   "cell_type": "code",
   "execution_count": null,
   "metadata": {},
   "outputs": [],
   "source": []
  }
 ],
 "metadata": {
  "kernelspec": {
   "display_name": "Python 3",
   "language": "python",
   "name": "python3"
  },
  "language_info": {
   "codemirror_mode": {
    "name": "ipython",
    "version": 3
   },
   "file_extension": ".py",
   "mimetype": "text/x-python",
   "name": "python",
   "nbconvert_exporter": "python",
   "pygments_lexer": "ipython3",
   "version": "3.7.4"
  }
 },
 "nbformat": 4,
 "nbformat_minor": 2
}
