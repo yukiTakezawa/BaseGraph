{
 "cells": [
  {
   "cell_type": "code",
   "execution_count": 1,
   "metadata": {},
   "outputs": [],
   "source": [
    "import json"
   ]
  },
  {
   "cell_type": "code",
   "execution_count": 2,
   "metadata": {},
   "outputs": [],
   "source": [
    "n_nodes = 25\n",
    "\n",
    "master_address = \"129.60.2.109\"\n",
    "port = \"1234\"\n",
    "ip_address = [\"129.60.2.109\", \"129.60.2.110\", \"129.60.2.94\", \"129.60.2.94\"]"
   ]
  },
  {
   "cell_type": "code",
   "execution_count": 3,
   "metadata": {},
   "outputs": [],
   "source": [
    "json_dict = {}"
   ]
  },
  {
   "cell_type": "code",
   "execution_count": 4,
   "metadata": {},
   "outputs": [],
   "source": [
    "json_dict[\"master_address\"] = master_address\n",
    "json_dict[\"port\"] = port\n",
    "json_dict[\"n_nodes\"] = n_nodes\n",
    "\n",
    "for i in range(n_nodes):\n",
    "    json_dict[f\"node{i}\"] = {}\n",
    "    json_dict[f\"node{i}\"][\"node_id\"] = i\n",
    "    json_dict[f\"node{i}\"][\"cuda\"] = f\"cuda:{i%8}\"\n",
    "    json_dict[f\"node{i}\"][\"ip_address\"] = ip_address[i//8]"
   ]
  },
  {
   "cell_type": "code",
   "execution_count": 5,
   "metadata": {},
   "outputs": [
    {
     "data": {
      "text/plain": [
       "{'master_address': '129.60.2.109',\n",
       " 'port': '1234',\n",
       " 'n_nodes': 25,\n",
       " 'node0': {'node_id': 0, 'cuda': 'cuda:0', 'ip_address': '129.60.2.109'},\n",
       " 'node1': {'node_id': 1, 'cuda': 'cuda:1', 'ip_address': '129.60.2.109'},\n",
       " 'node2': {'node_id': 2, 'cuda': 'cuda:2', 'ip_address': '129.60.2.109'},\n",
       " 'node3': {'node_id': 3, 'cuda': 'cuda:3', 'ip_address': '129.60.2.109'},\n",
       " 'node4': {'node_id': 4, 'cuda': 'cuda:4', 'ip_address': '129.60.2.109'},\n",
       " 'node5': {'node_id': 5, 'cuda': 'cuda:5', 'ip_address': '129.60.2.109'},\n",
       " 'node6': {'node_id': 6, 'cuda': 'cuda:6', 'ip_address': '129.60.2.109'},\n",
       " 'node7': {'node_id': 7, 'cuda': 'cuda:7', 'ip_address': '129.60.2.109'},\n",
       " 'node8': {'node_id': 8, 'cuda': 'cuda:0', 'ip_address': '129.60.2.110'},\n",
       " 'node9': {'node_id': 9, 'cuda': 'cuda:1', 'ip_address': '129.60.2.110'},\n",
       " 'node10': {'node_id': 10, 'cuda': 'cuda:2', 'ip_address': '129.60.2.110'},\n",
       " 'node11': {'node_id': 11, 'cuda': 'cuda:3', 'ip_address': '129.60.2.110'},\n",
       " 'node12': {'node_id': 12, 'cuda': 'cuda:4', 'ip_address': '129.60.2.110'},\n",
       " 'node13': {'node_id': 13, 'cuda': 'cuda:5', 'ip_address': '129.60.2.110'},\n",
       " 'node14': {'node_id': 14, 'cuda': 'cuda:6', 'ip_address': '129.60.2.110'},\n",
       " 'node15': {'node_id': 15, 'cuda': 'cuda:7', 'ip_address': '129.60.2.110'},\n",
       " 'node16': {'node_id': 16, 'cuda': 'cuda:0', 'ip_address': '129.60.2.94'},\n",
       " 'node17': {'node_id': 17, 'cuda': 'cuda:1', 'ip_address': '129.60.2.94'},\n",
       " 'node18': {'node_id': 18, 'cuda': 'cuda:2', 'ip_address': '129.60.2.94'},\n",
       " 'node19': {'node_id': 19, 'cuda': 'cuda:3', 'ip_address': '129.60.2.94'},\n",
       " 'node20': {'node_id': 20, 'cuda': 'cuda:4', 'ip_address': '129.60.2.94'},\n",
       " 'node21': {'node_id': 21, 'cuda': 'cuda:5', 'ip_address': '129.60.2.94'},\n",
       " 'node22': {'node_id': 22, 'cuda': 'cuda:6', 'ip_address': '129.60.2.94'},\n",
       " 'node23': {'node_id': 23, 'cuda': 'cuda:7', 'ip_address': '129.60.2.94'},\n",
       " 'node24': {'node_id': 24, 'cuda': 'cuda:0', 'ip_address': '129.60.2.94'}}"
      ]
     },
     "execution_count": 5,
     "metadata": {},
     "output_type": "execute_result"
    }
   ],
   "source": [
    "json_dict"
   ]
  },
  {
   "cell_type": "code",
   "execution_count": 6,
   "metadata": {},
   "outputs": [],
   "source": [
    "with open(f\"../config/{n_nodes}_node.json\", 'w') as f:\n",
    "    json.dump(json_dict, f, indent=2)"
   ]
  },
  {
   "cell_type": "code",
   "execution_count": null,
   "metadata": {},
   "outputs": [],
   "source": []
  }
 ],
 "metadata": {
  "kernelspec": {
   "display_name": "Python 3 (ipykernel)",
   "language": "python",
   "name": "python3"
  },
  "language_info": {
   "codemirror_mode": {
    "name": "ipython",
    "version": 3
   },
   "file_extension": ".py",
   "mimetype": "text/x-python",
   "name": "python",
   "nbconvert_exporter": "python",
   "pygments_lexer": "ipython3",
   "version": "3.8.12"
  }
 },
 "nbformat": 4,
 "nbformat_minor": 4
}
